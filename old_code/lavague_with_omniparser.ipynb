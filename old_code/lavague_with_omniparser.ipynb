{
 "cells": [
  {
   "cell_type": "markdown",
   "metadata": {},
   "source": [
    "# Lavague with OmniParser"
   ]
  },
  {
   "cell_type": "code",
   "execution_count": null,
   "metadata": {},
   "outputs": [],
   "source": [
    "from omniparser import OmniParser, OmniParserConfig\n",
    "\n",
    "# LaVague imports\n",
    "from lavague.drivers.selenium import SeleniumDriver\n",
    "from lavague.core import ActionEngine, WorldModel\n",
    "\n",
    "# LaVague imports for custom WebAgent class\n",
    "from lavague.core.agents import WebAgent\n",
    "from lavague.core.world_model import WorldModel\n",
    "from lavague.core.action_engine import ActionEngine\n",
    "from lavague.core.logger import AgentLogger\n",
    "from lavague.core.token_counter import TokenCounter\n",
    "from lavague.core.base_engine import ActionResult\n",
    "from lavague.core.utilities.format_utils import (\n",
    "    extract_before_next_engine,\n",
    "    extract_next_engine,\n",
    "    extract_world_model_instruction,\n",
    "    replace_hyphens,\n",
    ")\n",
    "\n",
    "\n",
    "\n",
    "# Optional imports, if not already covered in the base WebAgent\n",
    "from typing import Optional, Any\n",
    "import tempfile\n",
    "from PIL import Image\n",
    "import os\n",
    "import logging\n"
   ]
  },
  {
   "cell_type": "markdown",
   "metadata": {},
   "source": [
    "We create a subclass from WebAgent which overwrites some of the methods so as incorporate the OmniParser annotation. Make sure you have a the weights for OmniParser downloaded to your machine before proceeding."
   ]
  },
  {
   "cell_type": "code",
   "execution_count": null,
   "metadata": {},
   "outputs": [],
   "source": [
    "\n",
    "logging_print = logging.getLogger(__name__)\n",
    "logging_print.setLevel(logging.INFO)\n",
    "format = logging.Formatter(\"%(asctime)s - %(levelname)s - %(message)s\")\n",
    "ch = logging.StreamHandler()\n",
    "ch.setLevel(logging.INFO)\n",
    "ch.setFormatter(format)\n",
    "logging_print.addHandler(ch)\n",
    "logging_print.propagate = False\n"
   ]
  },
  {
   "cell_type": "code",
   "execution_count": null,
   "metadata": {},
   "outputs": [],
   "source": [
    "class WebAgentWithOmniParser(WebAgent):\n",
    "    \n",
    "    def __init__(\n",
    "        self, \n",
    "        world_model: WorldModel, \n",
    "        action_engine: ActionEngine, \n",
    "        omniparser: OmniParser,\n",
    "        token_counter: Optional[TokenCounter] = None,\n",
    "        n_steps: int = 10,\n",
    "        clean_screenshot_folder: bool = True,\n",
    "        logger: AgentLogger = None,\n",
    "    ):\n",
    "        super().__init__(\n",
    "            world_model,\n",
    "            action_engine,\n",
    "            token_counter,\n",
    "            n_steps,\n",
    "            clean_screenshot_folder,\n",
    "            logger\n",
    "        )\n",
    "        self.omniparer = omniparser\n",
    "        self.annotated_cache = set() # Cache to monitor which screenshots have been annotated\n",
    "\n",
    "    def parse(self, folder_path):\n",
    "        \"\"\"Parse and annotate screenshots in `folder_path` which haven't been processed yet. \"\"\"\n",
    "        for filename in os.listdir(folder_path):\n",
    "            file_path = os.path.join(folder_path, filename)\n",
    "\n",
    "            # if filepath is not in the cache, annotate it\n",
    "            if file_path not in self.annotated_cache and file_path.endswith('png'):\n",
    "                try:\n",
    "                    if self.omniparer:\n",
    "                        annotated_image, _ = self.omniparer.parse(file_path)\n",
    "                        print(f\"Annotated the image located at: {file_path}\")\n",
    "                    \n",
    "                    annotated_image.save(file_path)\n",
    "\n",
    "                    self.annotated_cache.add(file_path)\n",
    "                except FileNotFoundError as e:\n",
    "                    print(f\"Error finding the file\")\n",
    "                    raise\n",
    "    \n",
    "    def run_step(self, objective: str) -> Optional[ActionResult]:\n",
    "        obs = self.driver.get_obs()\n",
    "        current_state, past = self.st_memory.get_state()\n",
    "\n",
    "        # Parse unannotated screenshots\n",
    "        screenshots_path = obs[\"screenshots_path\"]\n",
    "        self.parse(screenshots_path)\n",
    "        world_model_output = self.world_model.get_instruction(\n",
    "            objective, current_state, past, obs\n",
    "        )\n",
    "        logging_print.info(world_model_output)\n",
    "        next_engine_name = extract_next_engine(world_model_output)\n",
    "        instruction = extract_world_model_instruction(world_model_output)\n",
    "\n",
    "        if next_engine_name == \"COMPLETE\" or next_engine_name == \"SUCCESS\":\n",
    "            self.result.success = True\n",
    "            self.result.output = instruction\n",
    "            logging_print.info(\"Objective reached. Stopping...\")\n",
    "            self.logger.add_log(obs)\n",
    "\n",
    "            self.process_token_usage()\n",
    "            self.logger.end_step()\n",
    "            return self.result\n",
    "\n",
    "        action_result = self.action_engine.dispatch_instruction(\n",
    "            next_engine_name, instruction\n",
    "        )\n",
    "        if action_result.success:\n",
    "            self.result.code += action_result.code\n",
    "            self.result.output = action_result.output\n",
    "        self.st_memory.update_state(\n",
    "            instruction,\n",
    "            next_engine_name,\n",
    "            action_result.success,\n",
    "            action_result.output,\n",
    "        )\n",
    "        self.logger.add_log(obs)\n",
    "\n",
    "        self.process_token_usage()\n",
    "        self.logger.end_step()\n",
    "                \n",
    "\n",
    "        "
   ]
  },
  {
   "cell_type": "code",
   "execution_count": null,
   "metadata": {},
   "outputs": [],
   "source": [
    "!wget https://raw.githubusercontent.com/lavague-ai/LaVague/main/examples/knowledge/hf_knowledge.txt"
   ]
  },
  {
   "cell_type": "code",
   "execution_count": null,
   "metadata": {},
   "outputs": [],
   "source": [
    "config = OmniParserConfig()\n",
    "omniparser = OmniParser(config)"
   ]
  },
  {
   "cell_type": "code",
   "execution_count": null,
   "metadata": {},
   "outputs": [],
   "source": [
    "from lavague.drivers.selenium import SeleniumDriver\n",
    "from lavague.core import ActionEngine, WorldModel\n",
    "from lavague.core.agents import WebAgent\n",
    "\n",
    "selenium_driver = SeleniumDriver()\n",
    "action_engine = ActionEngine(selenium_driver)\n",
    "world_model = WorldModel()\n",
    "# world_model.add_knowledge(\"hf_knowledge.txt\")\n",
    "\n",
    "agent = WebAgentWithOmniParser(world_model, action_engine, omniparser=omniparser)\n",
    "agent.get(\"https://www.bankrate.com/\")\n",
    "agent.run(\"Please find the best mortgage rate available to me using bankrate.com. My zip code is ##### and the purchase price is $400,000 with a down payment of $85,000. My credit score is 800.\", display=True)"
   ]
  }
 ],
 "metadata": {
  "kernelspec": {
   "display_name": "fellowship",
   "language": "python",
   "name": "python3"
  },
  "language_info": {
   "codemirror_mode": {
    "name": "ipython",
    "version": 3
   },
   "file_extension": ".py",
   "mimetype": "text/x-python",
   "name": "python",
   "nbconvert_exporter": "python",
   "pygments_lexer": "ipython3",
   "version": "3.12.7"
  }
 },
 "nbformat": 4,
 "nbformat_minor": 2
}
